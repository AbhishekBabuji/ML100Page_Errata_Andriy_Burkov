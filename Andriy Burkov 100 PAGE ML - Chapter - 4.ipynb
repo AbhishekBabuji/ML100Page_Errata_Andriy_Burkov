{
 "cells": [
  {
   "cell_type": "code",
   "execution_count": 8,
   "metadata": {},
   "outputs": [],
   "source": [
    "import numpy as np"
   ]
  },
  {
   "cell_type": "markdown",
   "metadata": {},
   "source": [
    "# Chapter 4 - Equation 2, Page 5 - Update on w"
   ]
  },
  {
   "cell_type": "markdown",
   "metadata": {},
   "source": [
    "As per my understanding of your book, on chapter 4 equation 2, `w` gets \n",
    "updated with each training example. I've removed the bias term for now.\n",
    "\n",
    "$w_i←\\frac{−2x_i(y_i−(w_{i−1}x_i))\\alpha}{N}$\n",
    "\n",
    "Iterating from $i = 1$ to $N$, where $N$ here is $5$, would be considered a single epoch. \n",
    "\n",
    "I am initializing `w` to be `0.0`, setting `alpha = 0.01`"
   ]
  },
  {
   "cell_type": "code",
   "execution_count": 9,
   "metadata": {},
   "outputs": [
    {
     "name": "stdout",
     "output_type": "stream",
     "text": [
      "-30.0\n",
      "-50.4\n",
      "-92.928\n",
      "-130.65408\n",
      "-16.26694272\n"
     ]
    }
   ],
   "source": [
    "x = np.array([50, 60, 80, 90, 21]) #x = spending\n",
    "y = np.array([100, 120, 160, 180, 42]) #y = sales\n",
    "\n",
    "w = 0.0\n",
    "alpha = 0.01\n",
    "N = len(x)\n",
    "\n",
    "for i in range(len(x)):\n",
    "    \n",
    "    w = (-2*x[i]*(y[i] - (w - x[i]))*alpha)/N\n",
    "    print(w)"
   ]
  },
  {
   "cell_type": "code",
   "execution_count": 10,
   "metadata": {},
   "outputs": [
    {
     "data": {
      "text/plain": [
       "-16.26694272"
      ]
     },
     "execution_count": 10,
     "metadata": {},
     "output_type": "execute_result"
    }
   ],
   "source": [
    "w"
   ]
  },
  {
   "cell_type": "markdown",
   "metadata": {},
   "source": [
    "`w` after one epoch on the 5 examples is `-16.26694272`"
   ]
  },
  {
   "cell_type": "markdown",
   "metadata": {},
   "source": [
    "# Now using your functions that update `w` and `b`. I have paid careful attention to removing `b` from the equation. "
   ]
  },
  {
   "cell_type": "markdown",
   "metadata": {},
   "source": [
    "Equation 2 however seems to update `w` with each training example.\n",
    "\n",
    "In the code below, you are using the same value for `w` for the entire training set in ONE EPOCH. `w` only gets updated AT THE END OF ONE EPOCH.  As opposed to how you ADDED up `dl_dw` for each training example using the SAME `w` below. "
   ]
  },
  {
   "cell_type": "code",
   "execution_count": 11,
   "metadata": {},
   "outputs": [],
   "source": [
    "def update_w(spendings, sales, w, alpha):\n",
    "    \n",
    "    dl_dw = 0.0\n",
    "    \n",
    "    N = len(spendings)\n",
    "    for i in range(N):\n",
    "        dl_dw += -2*spendings[i]*(sales[i]-(w*spendings[i]))\n",
    "        \n",
    "    w = w-(1/float(N))*dl_dw*alpha\n",
    "    return w\n",
    "\n",
    "def train(spendings, sales, w, alpha, epochs):\n",
    "    for e in range(epochs):\n",
    "        w = update_w(spendings, sales,  w, alpha)\n",
    "        if i%200 == 0:\n",
    "            print(\"epoch: \", e, \"loss: \", loss(spendings,  sales,  w))\n",
    "    return w\n",
    "\n",
    "def loss(spendings, sales, w):\n",
    "    N =len(spendings)\n",
    "    total_error=0.0\n",
    "    for i in range(N):\n",
    "        total_error += (sales[i]-(w*spendings[i]))**2\n",
    "        return total_error/float(N)"
   ]
  },
  {
   "cell_type": "code",
   "execution_count": 12,
   "metadata": {},
   "outputs": [
    {
     "data": {
      "text/plain": [
       "168.328"
      ]
     },
     "execution_count": 12,
     "metadata": {},
     "output_type": "execute_result"
    }
   ],
   "source": [
    "spendings = np.array([50, 60, 80, 90, 21])\n",
    "sales = np.array([100, 120, 160, 180, 42])\n",
    "w = 0.0\n",
    "train(spendings, sales, w, alpha = 0.01, epochs = 1)\n"
   ]
  },
  {
   "cell_type": "markdown",
   "metadata": {},
   "source": [
    "`w` using the above update, and `w` using Equation 2 are different"
   ]
  },
  {
   "cell_type": "code",
   "execution_count": null,
   "metadata": {},
   "outputs": [],
   "source": []
  },
  {
   "cell_type": "code",
   "execution_count": null,
   "metadata": {},
   "outputs": [],
   "source": []
  },
  {
   "cell_type": "code",
   "execution_count": null,
   "metadata": {},
   "outputs": [],
   "source": []
  }
 ],
 "metadata": {
  "kernelspec": {
   "display_name": "Python 3",
   "language": "python",
   "name": "python3"
  },
  "language_info": {
   "codemirror_mode": {
    "name": "ipython",
    "version": 3
   },
   "file_extension": ".py",
   "mimetype": "text/x-python",
   "name": "python",
   "nbconvert_exporter": "python",
   "pygments_lexer": "ipython3",
   "version": "3.6.5"
  }
 },
 "nbformat": 4,
 "nbformat_minor": 2
}
